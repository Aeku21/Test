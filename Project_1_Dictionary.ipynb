{
 "cells": [
  {
   "cell_type": "markdown",
   "id": "23b8c8ba",
   "metadata": {},
   "source": [
    "# English Dictionary App"
   ]
  },
  {
   "cell_type": "markdown",
   "id": "76fe7203",
   "metadata": {},
   "source": [
    "## 1A"
   ]
  },
  {
   "cell_type": "code",
   "execution_count": 1,
   "id": "e25e6e0f",
   "metadata": {},
   "outputs": [],
   "source": [
    "import os"
   ]
  },
  {
   "cell_type": "code",
   "execution_count": 2,
   "id": "ee7f554b",
   "metadata": {},
   "outputs": [],
   "source": [
    "import json"
   ]
  },
  {
   "cell_type": "code",
   "execution_count": 3,
   "id": "e0c4a803",
   "metadata": {},
   "outputs": [],
   "source": [
    "def addnewword():\n",
    "    word = input('Enter a word to add: ')\n",
    "    a = word.lower()\n",
    "    meaning = input('Enter the meaning for the word enter :')\n",
    "    b = meaning.lower()\n",
    "    with open('word.txt','r') as j:\n",
    "        d = j.read()\n",
    "        if len(d)==0:\n",
    "            j = open('word.txt','w')\n",
    "            dictd = {}\n",
    "            dictd[a]=b\n",
    "            json.dump(dictd,j)\n",
    "        else:\n",
    "            with open('word.txt','r+') as j:\n",
    "                dictd = json.load(j)\n",
    "                dictd[a]=b\n",
    "            with open('word.txt','w') as j:\n",
    "                json.dump(dictd,j)\n",
    "    print('adding function executed')"
   ]
  },
  {
   "cell_type": "code",
   "execution_count": null,
   "id": "5a4bf9f5",
   "metadata": {},
   "outputs": [],
   "source": [
    "def findmeaning():\n",
    "    word = input('word : ')\n",
    "    a = word.lower()\n",
    "    with open('word.txt','r') as j:\n",
    "        dictd = json.load(j)\n",
    "        meaning = dictd.get(a)\n",
    "        if meaning:\n",
    "            print('meaning: ',meaning)\n",
    "        else:\n",
    "            print('There is no such word!')\n",
    "        \n",
    "    return 'Finding meaning fun executed'"
   ]
  },
  {
   "cell_type": "code",
   "execution_count": null,
   "id": "f9236404",
   "metadata": {},
   "outputs": [],
   "source": [
    "\n",
    "def updateword():\n",
    "    word = input('Enter word to update: ')\n",
    "    a = word.lower()\n",
    "    new_meaning = input('Enter the meaning')\n",
    "    with open('word.txt','r') as j:\n",
    "        dictd = json.load(j)\n",
    "        dictd[a]=new_meaning\n",
    "    with open('word.txt','w') as j:\n",
    "        json.dump(dictd,j)\n",
    "    print('Update Function Execution')\n",
    "        "
   ]
  },
  {
   "cell_type": "code",
   "execution_count": null,
   "id": "2619fa3e",
   "metadata": {},
   "outputs": [],
   "source": [
    "\n",
    "def exit():\n",
    "    print('Exit function executed')\n",
    "    "
   ]
  },
  {
   "cell_type": "code",
   "execution_count": null,
   "id": "cc36798e",
   "metadata": {},
   "outputs": [],
   "source": [
    "def mainmenu():\n",
    "    if os.path.isfile('word.txt'):\n",
    "        while True:\n",
    "            print('\\nMain Menu\\n')\n",
    "            print('enter 1 Add word')\n",
    "            print('enter 2 Find meaning')\n",
    "            print('enter 3 Update meaning')\n",
    "            print('enter 4 Exit\\n')\n",
    "            \n",
    "            n = int(input('enter number here'))\n",
    "            \n",
    "            if n == 1:\n",
    "                addnewword()\n",
    "            elif n==2:\n",
    "                findmeaning()\n",
    "            elif n==3:\n",
    "                updateword()\n",
    "            else:\n",
    "                exit()\n",
    "                break\n",
    "\n",
    "    else:\n",
    "        j = open('word.txt','w')\n",
    "        dictd = {}\n",
    "        json.dump(dictd,j)\n",
    "        j.close()\n",
    "        print('Dictionary Created now you can add words')"
   ]
  },
  {
   "cell_type": "code",
   "execution_count": null,
   "id": "942685cd",
   "metadata": {},
   "outputs": [
    {
     "name": "stdout",
     "output_type": "stream",
     "text": [
      "\n",
      "Main Menu\n",
      "\n",
      "enter 1 Add word\n",
      "enter 2 Find meaning\n",
      "enter 3 Update meaning\n",
      "enter 4 Exit\n",
      "\n",
      "enter number here2\n",
      "word meaning: Apurva\n",
      "meaning:  superior\n",
      "\n",
      "Main Menu\n",
      "\n",
      "enter 1 Add word\n",
      "enter 2 Find meaning\n",
      "enter 3 Update meaning\n",
      "enter 4 Exit\n",
      "\n"
     ]
    }
   ],
   "source": [
    "mainmenu()"
   ]
  },
  {
   "cell_type": "markdown",
   "id": "c5d608fb",
   "metadata": {},
   "source": [
    "## 1B"
   ]
  },
  {
   "cell_type": "code",
   "execution_count": 462,
   "id": "d8971aad",
   "metadata": {},
   "outputs": [],
   "source": [
    "# libraries\n",
    "\n",
    "from tkinter import *\n",
    "import sqlite3 \n",
    "import tkinter.ttk as ttk\n",
    "import tkinter.messagebox as tkMessageBox"
   ]
  },
  {
   "cell_type": "code",
   "execution_count": 600,
   "id": "effbdd62",
   "metadata": {},
   "outputs": [],
   "source": [
    "# Create a Window\n",
    "\n",
    "window = Tk()\n",
    "window.title('A Library Application')\n",
    "\n",
    "# Method\n",
    "\n",
    "def database():\n",
    "    global conn, cur\n",
    "    conn = sqlite3.connect('library.db')\n",
    "    cur = conn.cursor()\n",
    "    cur.execute('CREATE TABLE IF NOT EXISTs book(book_id INTEGER PRIMARY KEY AUTOINCREMENT NOT NULL, book_title TEXT,author TEXT,year INTEGER,isbn INTEGER)')\n",
    "\n",
    "def Add():\n",
    "    if book_title.get()=='' or author.get()=='' or year.get()=='':\n",
    "        res.config(text='please enter Mandatory field',bg='red')\n",
    "    else:\n",
    "        database()\n",
    "        cur.execute('INSERT INTO book(book_title,author,year,isbn) VALUES(?,?,?,?)',(str(book_title.get()),(str(author.get())),(int(year.get())),(int(isbn.get()))))\n",
    "        conn.commit()\n",
    "        book_title.set('')\n",
    "        author.set('')\n",
    "        year.set('')\n",
    "        isbn.set('')\n",
    "        cur.close()\n",
    "        conn.close()\n",
    "        res.config(text='Record Added !',fg='green')\n",
    "                                                                                                              \n",
    "def display():\n",
    "    tree.delete(*tree.get_children())\n",
    "    database()\n",
    "    cur.execute('SELECT * FROM book ORDER BY book_title')\n",
    "    fetch = cur.fetchall()\n",
    "    for data in fetch:\n",
    "        tree.insert('','end',values=(data[1],data[2],data[3],data[4]))\n",
    "    cur.close()\n",
    "    res.config(text='Successfully fetched data',fg='black')\n",
    "    \n",
    "def exit():\n",
    "    result = tkMessageBox.askquestion('Do you want to exit? (Y/N)',icon='warning')\n",
    "    if result == 'yes':\n",
    "        window.destroy()\n",
    "        exit()\n"
   ]
  },
  {
   "cell_type": "code",
   "execution_count": null,
   "id": "c74b711b",
   "metadata": {},
   "outputs": [],
   "source": []
  },
  {
   "cell_type": "code",
   "execution_count": 601,
   "id": "adf8293c",
   "metadata": {},
   "outputs": [
    {
     "name": "stderr",
     "output_type": "stream",
     "text": [
      "Exception in Tkinter callback\n",
      "Traceback (most recent call last):\n",
      "  File \"D:\\My usefull\\SkillLync\\Anaconda\\lib\\tkinter\\__init__.py\", line 1921, in __call__\n",
      "    return self.func(*args)\n",
      "  File \"C:\\Users\\AKU\\AppData\\Local\\Temp\\ipykernel_17468\\3618450609.py\", line 43, in exit\n",
      "    exit()\n",
      "TypeError: 'Button' object is not callable\n"
     ]
    }
   ],
   "source": [
    "# Variable Declaration\n",
    "\n",
    "book_title = StringVar()\n",
    "author = StringVar()\n",
    "year = IntVar()\n",
    "isbn = IntVar()\n",
    "\n",
    "# Create a frames in windows\n",
    "\n",
    "Top = Frame(window, width = 900, height = 90, bd = 8, relief = 'raise')\n",
    "Top.pack(side=TOP)\n",
    "Left = Frame(window, width = 600, height = 600, bd = 8,bg='red', relief = 'sunken')\n",
    "Left.pack(side=LEFT)\n",
    "Right = Frame(window, width = 600, height = 600, bd = 8,bg='yellow', relief = 'sunken')\n",
    "Right.pack(side=RIGHT)\n",
    "\n",
    "# Form space in the left frame \n",
    "Forms = Frame(Left, width= 600, height=400,bd=8, relief='raise')\n",
    "Forms.pack(side = TOP)\n",
    "\n",
    "#adding the button frame in the left frame for CRUD\n",
    "\n",
    "Buttons = Frame(Left, width = 500, height=200, bd=8, relief= 'raise')\n",
    "Buttons.pack(side= BOTTOM)\n",
    "\n",
    "\n",
    "\n",
    "# Title to the frames\n",
    "\n",
    "txt_title = Label(Top, width = 900, font=('arial',24), text='Library Management System' )\n",
    "txt_title.pack()\n",
    "\n",
    "txt_booktitle = Label(Forms, text='*BookTitle: ',font=('arial',16),bd=15)\n",
    "txt_booktitle.grid(row=0,stick='e')\n",
    "txt_author = Label(Forms, text='*Author: ',font=('arial',16),bd=15)\n",
    "txt_author.grid(row=1,stick='e')\n",
    "txt_year = Label(Forms, text='*Year: ',font=('arial',16),bd=15)\n",
    "txt_year.grid(row=2,stick='e')\n",
    "txt_isbn = Label(Forms, text='ISBN: ',font=('arial',16),bd=15)\n",
    "txt_isbn.grid(row=3,stick='e')\n",
    "\n",
    "# Entry Widgets\n",
    "\n",
    "booktitle = Entry(Forms,textvariable=book_title, width=50,bd=5)\n",
    "booktitle.grid(row=0,column=1)\n",
    "authorr = Entry(Forms, textvariable=author, width=50,bd=5)\n",
    "authorr.grid(row=1,column=1)\n",
    "yearr = Entry(Forms, textvariable=year, width=10,bd=5)\n",
    "yearr.grid(row=2,column=1)\n",
    "isbnn = Entry(Forms, textvariable=isbn, width=10,bd=5)\n",
    "isbnn.grid(row=3,column=1)\n",
    "\n",
    "\n",
    "# Button Widgets\n",
    "\n",
    "display = Button(Buttons, width=10, text='Display',command=display)\n",
    "display.pack(side=LEFT)\n",
    "search = Button(Buttons, width=10, text='Search')\n",
    "search.pack(side=LEFT)\n",
    "add = Button(Buttons, width=10, text='Add',command=Add)\n",
    "add.pack(side=LEFT)\n",
    "issue = Button(Buttons, width=10, text='Issue')\n",
    "issue.pack(side=LEFT)\n",
    "deletee = Button(Buttons, width=10, text='Delete')\n",
    "deletee.pack(side=LEFT)\n",
    "exit = Button(Buttons, width=10, text='Exit',command=exit)\n",
    "exit.pack(side=LEFT)\n",
    "res = Label(Buttons)\n",
    "res.pack(side=TOP)\n",
    "\n",
    "# List Widgets\n",
    "\n",
    "Scrollbarx = Scrollbar(Right, orient=HORIZONTAL)\n",
    "Scrollbary = Scrollbar(Right, orient=VERTICAL)\n",
    "\n",
    "tree = ttk.Treeview(Right, column=('Book_Title','Author','Year','ISBN'))\n",
    "\n",
    "Scrollbarx.config(command=tree.xview)\n",
    "Scrollbarx.pack(side=BOTTOM, fill=X)\n",
    "Scrollbary.config(command=tree.yview)\n",
    "Scrollbary.pack(side=RIGHT, fill=Y)\n",
    "\n",
    "tree.heading('Book_Title', text='Book Title', anchor = W)\n",
    "tree.heading('Author', text='Author', anchor = W)\n",
    "tree.heading('Year', text='Year', anchor = W)\n",
    "tree.heading('ISBN', text='ISBN', anchor = W)\n",
    "tree.column('#0', stretch=0, minwidth=0, width=0)\n",
    "tree.column('#1', stretch=0, minwidth=0, width=200)\n",
    "tree.column('#2', stretch=0, minwidth=0, width=120)\n",
    "tree.column('#3', stretch=0, minwidth=0, width=80)\n",
    "tree.pack()\n",
    "\n",
    "window.mainloop()"
   ]
  },
  {
   "cell_type": "code",
   "execution_count": null,
   "id": "00670c32",
   "metadata": {},
   "outputs": [],
   "source": []
  }
 ],
 "metadata": {
  "kernelspec": {
   "display_name": "Python 3 (ipykernel)",
   "language": "python",
   "name": "python3"
  },
  "language_info": {
   "codemirror_mode": {
    "name": "ipython",
    "version": 3
   },
   "file_extension": ".py",
   "mimetype": "text/x-python",
   "name": "python",
   "nbconvert_exporter": "python",
   "pygments_lexer": "ipython3",
   "version": "3.10.9"
  }
 },
 "nbformat": 4,
 "nbformat_minor": 5
}
